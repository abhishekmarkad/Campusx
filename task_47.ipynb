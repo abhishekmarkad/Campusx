{
  "nbformat": 4,
  "nbformat_minor": 0,
  "metadata": {
    "colab": {
      "provenance": [],
      "include_colab_link": true
    },
    "kernelspec": {
      "name": "python3",
      "display_name": "Python 3"
    },
    "language_info": {
      "name": "python"
    }
  },
  "cells": [
    {
      "cell_type": "markdown",
      "metadata": {
        "id": "view-in-github",
        "colab_type": "text"
      },
      "source": [
        "<a href=\"https://colab.research.google.com/github/abhishekmarkad/Campusx/blob/main/task_47.ipynb\" target=\"_parent\"><img src=\"https://colab.research.google.com/assets/colab-badge.svg\" alt=\"Open In Colab\"/></a>"
      ]
    },
    {
      "cell_type": "code",
      "execution_count": null,
      "metadata": {
        "id": "LA_C6nh0pk8k"
      },
      "outputs": [],
      "source": [
        "# use python to solve all the questions"
      ]
    },
    {
      "cell_type": "markdown",
      "source": [
        "### Q1. Given the vectors A = [1, 2, 3] and B = [4, 5, 6], calculate the element-wise product of the two vectors.\n",
        "\n",
        "### Q2. Find the magnitude of the vector C = [2, -3, 1].\n",
        "\n",
        "\n",
        "### Q3. Given the vectors D = [1, 2, 3] and E = [4, 5, 6], calculate the cosine of the angle between them.\n",
        "\n",
        "### Q4. Given the vectors F = [1, 2, 3] and G = [4, 5, 6], calculate the cross product of the two vectors.\n",
        "\n",
        "### Q5. Given the vector H = [2, 4, 6], shift the vector +1 unit in each dimension\n",
        "\n",
        "### Q6. Given the vectors I = [1, 2, 3] and J = [4, 5, 6], calculate the projection of vector I onto vector J.\n",
        "\n",
        "### Q7. Consider the 2D - position vector a = (1, 3). If b is the point (5, 4), find the vector `ab` and the vector sum `a + ab`. Provide a sketch plot.\n",
        "\n",
        "Note: Search for quiver, to plot an arrow.\n",
        "\n",
        "### Q8. Given two 2D vectors `u` and `v` where `u = [-1, 4]` and `v = [3, -2]`, find the dot product `u . v`, the angle between `u` and `v`, and the projection of `u` onto `v`.\n",
        "\n",
        "\n",
        "### Q9. Given a hyperplane defined by the equation 3x - 2y + z = 1, find two different points that lie on this hyperplane.\n",
        "\n",
        "### Q10. Find a nearest point from a given array of points to a point P1.\n",
        "P1 - (3,9,3)\n",
        "\n",
        "Array of points :\n",
        "```\n",
        "[[1, 8, 5],\n",
        "[8, 8, 2],\n",
        "[7, 9, 1],\n",
        "[5, 6, 3],\n",
        "[9, 1, 2],\n",
        "[6, 5, 9],\n",
        "[5, 8, 6],\n",
        "[3, 4, 8],\n",
        "[6, 8, 4],\n",
        "[7, 2, 7]]\n",
        "```"
      ],
      "metadata": {
        "id": "0lF_KwWXpnQU"
      }
    },
    {
      "cell_type": "code",
      "source": [
        "import numpy as np\n",
        "a= [1, 2, 3]\n",
        "b= [4, 5, 6]\n",
        "# element wise product\n",
        "np.array(a)*np.array(b)"
      ],
      "metadata": {
        "id": "3RtkFjyXp93H",
        "outputId": "45ae9245-ea2a-401c-d33e-432590df0283",
        "colab": {
          "base_uri": "https://localhost:8080/"
        }
      },
      "execution_count": 2,
      "outputs": [
        {
          "output_type": "execute_result",
          "data": {
            "text/plain": [
              "array([ 4, 10, 18])"
            ]
          },
          "metadata": {},
          "execution_count": 2
        }
      ]
    },
    {
      "cell_type": "code",
      "source": [
        "c = [2, -3, 1]\n",
        "# magnitude of a vector\n",
        "np.linalg.norm(c)"
      ],
      "metadata": {
        "id": "XL47fXjrBOt1",
        "outputId": "a7fc349c-59e9-4b7b-d1ea-bacb650fe834",
        "colab": {
          "base_uri": "https://localhost:8080/"
        }
      },
      "execution_count": 4,
      "outputs": [
        {
          "output_type": "execute_result",
          "data": {
            "text/plain": [
              "3.7416573867739413"
            ]
          },
          "metadata": {},
          "execution_count": 4
        }
      ]
    },
    {
      "cell_type": "code",
      "source": [
        "d = [1, 2, 3]\n",
        "e = [4, 5, 6]\n",
        "# cosine angle between vectors\n",
        "# cos0=d.e/|a|*|b|\n",
        "np.array(d)@np.array(e)/(np.linalg.norm(d)*np.linalg.norm(e))"
      ],
      "metadata": {
        "id": "0_l8RhcqBlJG",
        "outputId": "2eaf556a-1d39-4113-c25d-61df82773e4b",
        "colab": {
          "base_uri": "https://localhost:8080/"
        }
      },
      "execution_count": 6,
      "outputs": [
        {
          "output_type": "execute_result",
          "data": {
            "text/plain": [
              "0.9746318461970762"
            ]
          },
          "metadata": {},
          "execution_count": 6
        }
      ]
    },
    {
      "cell_type": "code",
      "source": [
        "f = [1, 2, 3]\n",
        "g = [4, 5, 6]\n",
        "#calculate the cross product of the two vectors.\n",
        "np.cross(f,g)"
      ],
      "metadata": {
        "id": "wx4_8KfXCUIe",
        "outputId": "112772ab-ad03-49d2-8736-c268e269d656",
        "colab": {
          "base_uri": "https://localhost:8080/"
        }
      },
      "execution_count": 7,
      "outputs": [
        {
          "output_type": "execute_result",
          "data": {
            "text/plain": [
              "array([-3,  6, -3])"
            ]
          },
          "metadata": {},
          "execution_count": 7
        }
      ]
    },
    {
      "cell_type": "code",
      "source": [
        "h = [2, 4, 6]\n",
        "# shift the vector +1 unit in each dimension\n",
        "np.array(h)+1"
      ],
      "metadata": {
        "id": "vpw1IuCnC0FQ",
        "outputId": "e8e03f87-3c13-4962-f681-5fbbf109032a",
        "colab": {
          "base_uri": "https://localhost:8080/"
        }
      },
      "execution_count": 9,
      "outputs": [
        {
          "output_type": "execute_result",
          "data": {
            "text/plain": [
              "array([3, 5, 7])"
            ]
          },
          "metadata": {},
          "execution_count": 9
        }
      ]
    },
    {
      "cell_type": "code",
      "source": [
        "u = [-1, 4]\n",
        "v = [3, -2]\n",
        "# find the dot product u . v, the angle between u and v, and the projection of u onto v.\n",
        "print(f\"dot product of {u} and {v} is {np.dot(u,v)}\")\n",
        "print(f\"Angle between {u} and {v} is {np.arccos((np.dot(u,v)/(np.linalg.norm(u)*np.linalg.norm(v))))} radians\")\n",
        "print(f\"Projection of {u} on {v} is {np.dot(u,v)/np.linalg.norm(v)}\")"
      ],
      "metadata": {
        "id": "JVjqOf4dDHgQ",
        "outputId": "f45c2253-85f6-495a-ff75-abd27e0c066e",
        "colab": {
          "base_uri": "https://localhost:8080/"
        }
      },
      "execution_count": 12,
      "outputs": [
        {
          "output_type": "stream",
          "name": "stdout",
          "text": [
            "dot product of [-1, 4] and [3, -2] is -11\n",
            "Angle between [-1, 4] and [3, -2] is 2.4037775934693286 radians\n",
            "Projection of [-1, 4] on [3, -2] is -3.05085107923876\n"
          ]
        }
      ]
    },
    {
      "cell_type": "code",
      "source": [
        "# Given a hyperplane defined by the equation 3x - 2y + z = 1, find two different points that lie on this hyperplane.\n",
        "#  (0,0,1),\n",
        "#  (0,-0.5,0)\n",
        "#  (0.333,0,0)"
      ],
      "metadata": {
        "id": "IqN4F3UHH3OX"
      },
      "execution_count": 13,
      "outputs": []
    },
    {
      "cell_type": "code",
      "source": [
        "# Find a nearest point from a given array of points to a point P1.\n",
        "p1=np.array((3,9,3))\n",
        "\n",
        "# Array of points :\n",
        "a=[[1, 8, 5],\n",
        "[8, 8, 2],\n",
        "[7, 9, 1],\n",
        "[5, 6, 3],\n",
        "[9, 1, 2],\n",
        "[6, 5, 9],\n",
        "[5, 8, 6],\n",
        "[3, 4, 8],\n",
        "[6, 8, 4],\n",
        "[7, 2, 7]]\n",
        "a=np.array(a)\n",
        "\n",
        "a[np.argmin(np.linalg.norm(a-p1,axis=1))]"
      ],
      "metadata": {
        "id": "9jAJjfteIVCl",
        "outputId": "7544ff45-7498-4099-8d22-06df2159c65f",
        "colab": {
          "base_uri": "https://localhost:8080/"
        }
      },
      "execution_count": 18,
      "outputs": [
        {
          "output_type": "execute_result",
          "data": {
            "text/plain": [
              "array([1, 8, 5])"
            ]
          },
          "metadata": {},
          "execution_count": 18
        }
      ]
    },
    {
      "cell_type": "code",
      "source": [
        "import matplotlib.pyplot as plt"
      ],
      "metadata": {
        "id": "VGYoFL9gJo80"
      },
      "execution_count": 20,
      "outputs": []
    },
    {
      "cell_type": "code",
      "source": [
        "#  Consider the 2D - position vector\n",
        "#  a = (1, 3). If b is the point (5, 4), find the vector ab and the vector sum a + ab. Provide a sketch plot.\n",
        "a=(1,3)\n",
        "b=(5,4)\n",
        "plt.plot([0,a[0]],[0,a[1]],label='a')\n",
        "plt.quiver(1,3,1/np.linalg.norm(a),3/np.linalg.norm(a))\n",
        "plt.plot([0,b[0]],[0,b[1]],label='b')\n",
        "plt.quiver(b[0],b[1],b[0]/np.linalg.norm(b),b[1]/np.linalg.norm(b))\n",
        "c=np.array(b)-np.array(a)\n",
        "plt.plot([0,c[0]],[0,c[1]],label=\"ab\")\n",
        "plt.quiver(c[0],c[1],c[0]/np.linalg.norm(c),c[1]/np.linalg.norm(c))\n",
        "\n",
        "d=c+np.array(a)\n",
        "plt.plot([a[0],d[0]],[a[1],d[1]],label=\"ab\")\n",
        "plt.quiver(d[0],d[1],d[0]/np.linalg.norm(d),d[1]/np.linalg.norm(d))"
      ],
      "metadata": {
        "id": "pP6E5RwKKIUs",
        "outputId": "76788187-10cc-453f-c9dd-44cf36119e49",
        "colab": {
          "base_uri": "https://localhost:8080/",
          "height": 447
        }
      },
      "execution_count": 39,
      "outputs": [
        {
          "output_type": "execute_result",
          "data": {
            "text/plain": [
              "<matplotlib.quiver.Quiver at 0x78ebbdb9cf40>"
            ]
          },
          "metadata": {},
          "execution_count": 39
        },
        {
          "output_type": "display_data",
          "data": {
            "text/plain": [
              "<Figure size 640x480 with 1 Axes>"
            ],
            "image/png": "[encoded data removed]"
          },
          "metadata": {}
        }
      ]
    },
    {
      "cell_type": "code",
      "source": [
        "\n"
      ],
      "metadata": {
        "id": "tfoG6BSRKRmJ"
      },
      "execution_count": null,
      "outputs": []
    }
  ]
}