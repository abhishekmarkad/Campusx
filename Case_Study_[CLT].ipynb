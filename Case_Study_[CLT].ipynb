{
  "nbformat": 4,
  "nbformat_minor": 0,
  "metadata": {
    "colab": {
      "provenance": [],
      "authorship_tag": "ABX9TyPzNUxuGKCfMc2pV5cb0+/B",
      "include_colab_link": true
    },
    "kernelspec": {
      "name": "python3",
      "display_name": "Python 3"
    },
    "language_info": {
      "name": "python"
    }
  },
  "cells": [
    {
      "cell_type": "markdown",
      "metadata": {
        "id": "view-in-github",
        "colab_type": "text"
      },
      "source": [
        "<a href=\"https://colab.research.google.com/github/abhishekmarkad/Campusx/blob/main/Case_Study_%5BCLT%5D.ipynb\" target=\"_parent\"><img src=\"https://colab.research.google.com/assets/colab-badge.svg\" alt=\"Open In Colab\"/></a>"
      ]
    },
    {
      "cell_type": "code",
      "execution_count": null,
      "metadata": {
        "id": "9bdeaXcbMKkI"
      },
      "outputs": [],
      "source": [
        "#Readme"
      ]
    },
    {
      "cell_type": "markdown",
      "source": [
        "# Readme\n",
        " * Work around Central Limit Theorem to inference avg salary for docters.\n",
        " * dataset - https://www.kaggle.com/datasets/pythonafroz/doctors\n",
        "\n",
        "## central limit theorem\n",
        "\n",
        "* central limit formula says that the random variable of the sample means will be normally distributed with a mean that will be equal to the original distribution and standard deviation given by σ / √n.\n"
      ],
      "metadata": {
        "id": "laY_17FtNEL8"
      }
    },
    {
      "cell_type": "code",
      "source": [
        "#import required modules\n",
        "import pandas as pd\n",
        "import numpy as np\n",
        "import scipy\n",
        "import matplotlib.pyplot as plt\n",
        "import seaborn as sns\n",
        "from sklearn.neighbors import KernelDensity"
      ],
      "metadata": {
        "id": "ewn010zHMgAX"
      },
      "execution_count": 1,
      "outputs": []
    },
    {
      "cell_type": "code",
      "source": [
        "data=pd.read_csv(r'/content/Doctors job dataset.csv')"
      ],
      "metadata": {
        "id": "bvoIhZwnMydn"
      },
      "execution_count": 2,
      "outputs": []
    },
    {
      "cell_type": "code",
      "source": [
        "data"
      ],
      "metadata": {
        "colab": {
          "base_uri": "https://localhost:8080/",
          "height": 1000
        },
        "id": "e-kG_3O-O_D1",
        "outputId": "faf7fa99-11f7-4efa-97f2-6f1b96a6ae90"
      },
      "execution_count": 3,
      "outputs": [
        {
          "output_type": "execute_result",
          "data": {
            "text/plain": [
              "     S.No                                       Resume Title  Work Exp  \\\n",
              "0       1  Experienced Dermatologist with 5 years plus ex...       5.8   \n",
              "1       2       M.B.B.S.,D.D.V.(Skin) with 5 yrs experience.       5.0   \n",
              "2       3  MBBS, D.V.D & DNB (Dermatology) with 7 yrs exp...       8.2   \n",
              "3       4              MBBS; DNB, FCPS,DDV with 6yrs of Exp.       7.0   \n",
              "4       5  Medical and cosmetic dermatology and dermatosu...      10.0   \n",
              "..    ...                                                ...       ...   \n",
              "394   399  dermatologist cosmetologist Hair Transplant su...      10.0   \n",
              "395   400  Dermatologist Specialist with more than 5 year...       6.0   \n",
              "396   401  Senior Consultant Dermatologist in Kaya Skin C...      12.0   \n",
              "397   402  Dermatologist and cosmetologist, MD Dermatolog...       6.7   \n",
              "398   403         Consultant dermatologist and cosmetologist       7.0   \n",
              "\n",
              "     Annual Salary Current Location Preferred Location  \\\n",
              "0             10.0          Kolkata            Kolkata   \n",
              "1             10.5            Dubai              Dubai   \n",
              "2             30.0            Dubai          All India   \n",
              "3              9.6           Mumbai             Mumbai   \n",
              "4             15.0        New Delhi        Delhi / Ncr   \n",
              "..             ...              ...                ...   \n",
              "394           27.0        New Delhi    Uae,india,qatar   \n",
              "395           18.0          Nellore        Qatar,dubai   \n",
              "396            6.0        Hyderabad          Hyderabad   \n",
              "397           30.0        New Delhi        Delhi / Ncr   \n",
              "398           18.5          Kolkata          All India   \n",
              "\n",
              "                                           Designation U.G. Course  \\\n",
              "0                                                  NaN        Mbbs   \n",
              "1           Consultant Dermatologist And Cosmetologist        Mbbs   \n",
              "2                                        Dermatologist        Mbbs   \n",
              "3                                                  NaN        Mbbs   \n",
              "4           Consultant Dermatologist And Cosmetologist        Mbbs   \n",
              "..                                                 ...         ...   \n",
              "394                           Consultant Dermatologist        Mbbs   \n",
              "395             Specialist Dermatologist Cosmetologist        Mbbs   \n",
              "396  Senior Dermatologist,trichologist And Cosmetol...        Mbbs   \n",
              "397                           Consultant Dermatologist        Mbbs   \n",
              "398         Consultant Dermatologist And Cosmetologist        Mbbs   \n",
              "\n",
              "        P. G. Course Post P. G. Course  Age/Date of Birth  \\\n",
              "0     Md Dermatology                Dr               40.0   \n",
              "1         Pg Diploma               NaN               40.0   \n",
              "2                Dnb               NaN               48.0   \n",
              "3    Dnb Dermatology             D.d.v               41.0   \n",
              "4         Pg Diploma               NaN               40.0   \n",
              "..               ...               ...                ...   \n",
              "394  Dnb Dermatology               NaN                NaN   \n",
              "395    Medical-ms/md               NaN               37.0   \n",
              "396    Medical-ms/md               NaN               44.0   \n",
              "397   Md Dermatology               NaN               31.0   \n",
              "398    Medical-ms/md               NaN               37.0   \n",
              "\n",
              "                            Resume ID  Last Active Date  \n",
              "0                  0c264007658bd1c224              2016  \n",
              "1                  3697d8852652123c53              2014  \n",
              "2                  4b98d6db4fc0b5b012              2009  \n",
              "3                  59063066742215cd70              2013  \n",
              "4                  1aea93342d8c652a71              2018  \n",
              "..                                ...               ...  \n",
              "394                48a7aee24aff97e770              2021  \n",
              "395  fbe7d9e52fa3478687b22b6f8cc741cf              2021  \n",
              "396  a6699f56eaa14eca9732574fc1f98cc1              2021  \n",
              "397  298364e929a641a4b49eafc8a6118cc9              2021  \n",
              "398                6bdc74e953ab19bd24              2021  \n",
              "\n",
              "[399 rows x 13 columns]"
            ],
            "text/html": [
              "\n",
              "  <div id=\"df-1b515c63-52bb-4aa0-8c0c-78fe4ae6179f\" class=\"colab-df-container\">\n",
              "    <div>\n",
              "<style scoped>\n",
              "    .dataframe tbody tr th:only-of-type {\n",
              "        vertical-align: middle;\n",
              "    }\n",
              "\n",
              "    .dataframe tbody tr th {\n",
              "        vertical-align: top;\n",
              "    }\n",
              "\n",
              "    .dataframe thead th {\n",
              "        text-align: right;\n",
              "    }\n",
              "</style>\n",
              "<table border=\"1\" class=\"dataframe\">\n",
              "  <thead>\n",
              "    <tr style=\"text-align: right;\">\n",
              "      <th></th>\n",
              "      <th>S.No</th>\n",
              "      <th>Resume Title</th>\n",
              "      <th>Work Exp</th>\n",
              "      <th>Annual Salary</th>\n",
              "      <th>Current Location</th>\n",
              "      <th>Preferred Location</th>\n",
              "      <th>Designation</th>\n",
              "      <th>U.G. Course</th>\n",
              "      <th>P. G. Course</th>\n",
              "      <th>Post P. G. Course</th>\n",
              "      <th>Age/Date of Birth</th>\n",
              "      <th>Resume ID</th>\n",
              "      <th>Last Active Date</th>\n",
              "    </tr>\n",
              "  </thead>\n",
              "  <tbody>\n",
              "    <tr>\n",
              "      <th>0</th>\n",
              "      <td>1</td>\n",
              "      <td>Experienced Dermatologist with 5 years plus ex...</td>\n",
              "      <td>5.8</td>\n",
              "      <td>10.0</td>\n",
              "      <td>Kolkata</td>\n",
              "      <td>Kolkata</td>\n",
              "      <td>NaN</td>\n",
              "      <td>Mbbs</td>\n",
              "      <td>Md Dermatology</td>\n",
              "      <td>Dr</td>\n",
              "      <td>40.0</td>\n",
              "      <td>0c264007658bd1c224</td>\n",
              "      <td>2016</td>\n",
              "    </tr>\n",
              "    <tr>\n",
              "      <th>1</th>\n",
              "      <td>2</td>\n",
              "      <td>M.B.B.S.,D.D.V.(Skin) with 5 yrs experience.</td>\n",
              "      <td>5.0</td>\n",
              "      <td>10.5</td>\n",
              "      <td>Dubai</td>\n",
              "      <td>Dubai</td>\n",
              "      <td>Consultant Dermatologist And Cosmetologist</td>\n",
              "      <td>Mbbs</td>\n",
              "      <td>Pg Diploma</td>\n",
              "      <td>NaN</td>\n",
              "      <td>40.0</td>\n",
              "      <td>3697d8852652123c53</td>\n",
              "      <td>2014</td>\n",
              "    </tr>\n",
              "    <tr>\n",
              "      <th>2</th>\n",
              "      <td>3</td>\n",
              "      <td>MBBS, D.V.D &amp; DNB (Dermatology) with 7 yrs exp...</td>\n",
              "      <td>8.2</td>\n",
              "      <td>30.0</td>\n",
              "      <td>Dubai</td>\n",
              "      <td>All India</td>\n",
              "      <td>Dermatologist</td>\n",
              "      <td>Mbbs</td>\n",
              "      <td>Dnb</td>\n",
              "      <td>NaN</td>\n",
              "      <td>48.0</td>\n",
              "      <td>4b98d6db4fc0b5b012</td>\n",
              "      <td>2009</td>\n",
              "    </tr>\n",
              "    <tr>\n",
              "      <th>3</th>\n",
              "      <td>4</td>\n",
              "      <td>MBBS; DNB, FCPS,DDV with 6yrs of Exp.</td>\n",
              "      <td>7.0</td>\n",
              "      <td>9.6</td>\n",
              "      <td>Mumbai</td>\n",
              "      <td>Mumbai</td>\n",
              "      <td>NaN</td>\n",
              "      <td>Mbbs</td>\n",
              "      <td>Dnb Dermatology</td>\n",
              "      <td>D.d.v</td>\n",
              "      <td>41.0</td>\n",
              "      <td>59063066742215cd70</td>\n",
              "      <td>2013</td>\n",
              "    </tr>\n",
              "    <tr>\n",
              "      <th>4</th>\n",
              "      <td>5</td>\n",
              "      <td>Medical and cosmetic dermatology and dermatosu...</td>\n",
              "      <td>10.0</td>\n",
              "      <td>15.0</td>\n",
              "      <td>New Delhi</td>\n",
              "      <td>Delhi / Ncr</td>\n",
              "      <td>Consultant Dermatologist And Cosmetologist</td>\n",
              "      <td>Mbbs</td>\n",
              "      <td>Pg Diploma</td>\n",
              "      <td>NaN</td>\n",
              "      <td>40.0</td>\n",
              "      <td>1aea93342d8c652a71</td>\n",
              "      <td>2018</td>\n",
              "    </tr>\n",
              "    <tr>\n",
              "      <th>...</th>\n",
              "      <td>...</td>\n",
              "      <td>...</td>\n",
              "      <td>...</td>\n",
              "      <td>...</td>\n",
              "      <td>...</td>\n",
              "      <td>...</td>\n",
              "      <td>...</td>\n",
              "      <td>...</td>\n",
              "      <td>...</td>\n",
              "      <td>...</td>\n",
              "      <td>...</td>\n",
              "      <td>...</td>\n",
              "      <td>...</td>\n",
              "    </tr>\n",
              "    <tr>\n",
              "      <th>394</th>\n",
              "      <td>399</td>\n",
              "      <td>dermatologist cosmetologist Hair Transplant su...</td>\n",
              "      <td>10.0</td>\n",
              "      <td>27.0</td>\n",
              "      <td>New Delhi</td>\n",
              "      <td>Uae,india,qatar</td>\n",
              "      <td>Consultant Dermatologist</td>\n",
              "      <td>Mbbs</td>\n",
              "      <td>Dnb Dermatology</td>\n",
              "      <td>NaN</td>\n",
              "      <td>NaN</td>\n",
              "      <td>48a7aee24aff97e770</td>\n",
              "      <td>2021</td>\n",
              "    </tr>\n",
              "    <tr>\n",
              "      <th>395</th>\n",
              "      <td>400</td>\n",
              "      <td>Dermatologist Specialist with more than 5 year...</td>\n",
              "      <td>6.0</td>\n",
              "      <td>18.0</td>\n",
              "      <td>Nellore</td>\n",
              "      <td>Qatar,dubai</td>\n",
              "      <td>Specialist Dermatologist Cosmetologist</td>\n",
              "      <td>Mbbs</td>\n",
              "      <td>Medical-ms/md</td>\n",
              "      <td>NaN</td>\n",
              "      <td>37.0</td>\n",
              "      <td>fbe7d9e52fa3478687b22b6f8cc741cf</td>\n",
              "      <td>2021</td>\n",
              "    </tr>\n",
              "    <tr>\n",
              "      <th>396</th>\n",
              "      <td>401</td>\n",
              "      <td>Senior Consultant Dermatologist in Kaya Skin C...</td>\n",
              "      <td>12.0</td>\n",
              "      <td>6.0</td>\n",
              "      <td>Hyderabad</td>\n",
              "      <td>Hyderabad</td>\n",
              "      <td>Senior Dermatologist,trichologist And Cosmetol...</td>\n",
              "      <td>Mbbs</td>\n",
              "      <td>Medical-ms/md</td>\n",
              "      <td>NaN</td>\n",
              "      <td>44.0</td>\n",
              "      <td>a6699f56eaa14eca9732574fc1f98cc1</td>\n",
              "      <td>2021</td>\n",
              "    </tr>\n",
              "    <tr>\n",
              "      <th>397</th>\n",
              "      <td>402</td>\n",
              "      <td>Dermatologist and cosmetologist, MD Dermatolog...</td>\n",
              "      <td>6.7</td>\n",
              "      <td>30.0</td>\n",
              "      <td>New Delhi</td>\n",
              "      <td>Delhi / Ncr</td>\n",
              "      <td>Consultant Dermatologist</td>\n",
              "      <td>Mbbs</td>\n",
              "      <td>Md Dermatology</td>\n",
              "      <td>NaN</td>\n",
              "      <td>31.0</td>\n",
              "      <td>298364e929a641a4b49eafc8a6118cc9</td>\n",
              "      <td>2021</td>\n",
              "    </tr>\n",
              "    <tr>\n",
              "      <th>398</th>\n",
              "      <td>403</td>\n",
              "      <td>Consultant dermatologist and cosmetologist</td>\n",
              "      <td>7.0</td>\n",
              "      <td>18.5</td>\n",
              "      <td>Kolkata</td>\n",
              "      <td>All India</td>\n",
              "      <td>Consultant Dermatologist And Cosmetologist</td>\n",
              "      <td>Mbbs</td>\n",
              "      <td>Medical-ms/md</td>\n",
              "      <td>NaN</td>\n",
              "      <td>37.0</td>\n",
              "      <td>6bdc74e953ab19bd24</td>\n",
              "      <td>2021</td>\n",
              "    </tr>\n",
              "  </tbody>\n",
              "</table>\n",
              "<p>399 rows × 13 columns</p>\n",
              "</div>\n",
              "    <div class=\"colab-df-buttons\">\n",
              "\n",
              "  <div class=\"colab-df-container\">\n",
              "    <button class=\"colab-df-convert\" onclick=\"convertToInteractive('df-1b515c63-52bb-4aa0-8c0c-78fe4ae6179f')\"\n",
              "            title=\"Convert this dataframe to an interactive table.\"\n",
              "            style=\"display:none;\">\n",
              "\n",
              "  <svg xmlns=\"http://www.w3.org/2000/svg\" height=\"24px\" viewBox=\"0 -960 960 960\">\n",
              "    <path d=\"M120-120v-720h720v720H120Zm60-500h600v-160H180v160Zm220 220h160v-160H400v160Zm0 220h160v-160H400v160ZM180-400h160v-160H180v160Zm440 0h160v-160H620v160ZM180-180h160v-160H180v160Zm440 0h160v-160H620v160Z\"/>\n",
              "  </svg>\n",
              "    </button>\n",
              "\n",
              "  <style>\n",
              "    .colab-df-container {\n",
              "      display:flex;\n",
              "      gap: 12px;\n",
              "    }\n",
              "\n",
              "    .colab-df-convert {\n",
              "      background-color: #E8F0FE;\n",
              "      border: none;\n",
              "      border-radius: 50%;\n",
              "      cursor: pointer;\n",
              "      display: none;\n",
              "      fill: #1967D2;\n",
              "      height: 32px;\n",
              "      padding: 0 0 0 0;\n",
              "      width: 32px;\n",
              "    }\n",
              "\n",
              "    .colab-df-convert:hover {\n",
              "      background-color: #E2EBFA;\n",
              "      box-shadow: 0px 1px 2px rgba(60, 64, 67, 0.3), 0px 1px 3px 1px rgba(60, 64, 67, 0.15);\n",
              "      fill: #174EA6;\n",
              "    }\n",
              "\n",
              "    .colab-df-buttons div {\n",
              "      margin-bottom: 4px;\n",
              "    }\n",
              "\n",
              "    [theme=dark] .colab-df-convert {\n",
              "      background-color: #3B4455;\n",
              "      fill: #D2E3FC;\n",
              "    }\n",
              "\n",
              "    [theme=dark] .colab-df-convert:hover {\n",
              "      background-color: #434B5C;\n",
              "      box-shadow: 0px 1px 3px 1px rgba(0, 0, 0, 0.15);\n",
              "      filter: drop-shadow(0px 1px 2px rgba(0, 0, 0, 0.3));\n",
              "      fill: #FFFFFF;\n",
              "    }\n",
              "  </style>\n",
              "\n",
              "    <script>\n",
              "      const buttonEl =\n",
              "        document.querySelector('#df-1b515c63-52bb-4aa0-8c0c-78fe4ae6179f button.colab-df-convert');\n",
              "      buttonEl.style.display =\n",
              "        google.colab.kernel.accessAllowed ? 'block' : 'none';\n",
              "\n",
              "      async function convertToInteractive(key) {\n",
              "        const element = document.querySelector('#df-1b515c63-52bb-4aa0-8c0c-78fe4ae6179f');\n",
              "        const dataTable =\n",
              "          await google.colab.kernel.invokeFunction('convertToInteractive',\n",
              "                                                    [key], {});\n",
              "        if (!dataTable) return;\n",
              "\n",
              "        const docLinkHtml = 'Like what you see? Visit the ' +\n",
              "          '<a target=\"_blank\" href=https://colab.research.google.com/notebooks/data_table.ipynb>data table notebook</a>'\n",
              "          + ' to learn more about interactive tables.';\n",
              "        element.innerHTML = '';\n",
              "        dataTable['output_type'] = 'display_data';\n",
              "        await google.colab.output.renderOutput(dataTable, element);\n",
              "        const docLink = document.createElement('div');\n",
              "        docLink.innerHTML = docLinkHtml;\n",
              "        element.appendChild(docLink);\n",
              "      }\n",
              "    </script>\n",
              "  </div>\n",
              "\n",
              "\n",
              "<div id=\"df-1699097a-2493-4721-ab12-ee6336e6d0eb\">\n",
              "  <button class=\"colab-df-quickchart\" onclick=\"quickchart('df-1699097a-2493-4721-ab12-ee6336e6d0eb')\"\n",
              "            title=\"Suggest charts\"\n",
              "            style=\"display:none;\">\n",
              "\n",
              "<svg xmlns=\"http://www.w3.org/2000/svg\" height=\"24px\"viewBox=\"0 0 24 24\"\n",
              "     width=\"24px\">\n",
              "    <g>\n",
              "        <path d=\"M19 3H5c-1.1 0-2 .9-2 2v14c0 1.1.9 2 2 2h14c1.1 0 2-.9 2-2V5c0-1.1-.9-2-2-2zM9 17H7v-7h2v7zm4 0h-2V7h2v10zm4 0h-2v-4h2v4z\"/>\n",
              "    </g>\n",
              "</svg>\n",
              "  </button>\n",
              "\n",
              "<style>\n",
              "  .colab-df-quickchart {\n",
              "      --bg-color: #E8F0FE;\n",
              "      --fill-color: #1967D2;\n",
              "      --hover-bg-color: #E2EBFA;\n",
              "      --hover-fill-color: #174EA6;\n",
              "      --disabled-fill-color: #AAA;\n",
              "      --disabled-bg-color: #DDD;\n",
              "  }\n",
              "\n",
              "  [theme=dark] .colab-df-quickchart {\n",
              "      --bg-color: #3B4455;\n",
              "      --fill-color: #D2E3FC;\n",
              "      --hover-bg-color: #434B5C;\n",
              "      --hover-fill-color: #FFFFFF;\n",
              "      --disabled-bg-color: #3B4455;\n",
              "      --disabled-fill-color: #666;\n",
              "  }\n",
              "\n",
              "  .colab-df-quickchart {\n",
              "    background-color: var(--bg-color);\n",
              "    border: none;\n",
              "    border-radius: 50%;\n",
              "    cursor: pointer;\n",
              "    display: none;\n",
              "    fill: var(--fill-color);\n",
              "    height: 32px;\n",
              "    padding: 0;\n",
              "    width: 32px;\n",
              "  }\n",
              "\n",
              "  .colab-df-quickchart:hover {\n",
              "    background-color: var(--hover-bg-color);\n",
              "    box-shadow: 0 1px 2px rgba(60, 64, 67, 0.3), 0 1px 3px 1px rgba(60, 64, 67, 0.15);\n",
              "    fill: var(--button-hover-fill-color);\n",
              "  }\n",
              "\n",
              "  .colab-df-quickchart-complete:disabled,\n",
              "  .colab-df-quickchart-complete:disabled:hover {\n",
              "    background-color: var(--disabled-bg-color);\n",
              "    fill: var(--disabled-fill-color);\n",
              "    box-shadow: none;\n",
              "  }\n",
              "\n",
              "  .colab-df-spinner {\n",
              "    border: 2px solid var(--fill-color);\n",
              "    border-color: transparent;\n",
              "    border-bottom-color: var(--fill-color);\n",
              "    animation:\n",
              "      spin 1s steps(1) infinite;\n",
              "  }\n",
              "\n",
              "  @keyframes spin {\n",
              "    0% {\n",
              "      border-color: transparent;\n",
              "      border-bottom-color: var(--fill-color);\n",
              "      border-left-color: var(--fill-color);\n",
              "    }\n",
              "    20% {\n",
              "      border-color: transparent;\n",
              "      border-left-color: var(--fill-color);\n",
              "      border-top-color: var(--fill-color);\n",
              "    }\n",
              "    30% {\n",
              "      border-color: transparent;\n",
              "      border-left-color: var(--fill-color);\n",
              "      border-top-color: var(--fill-color);\n",
              "      border-right-color: var(--fill-color);\n",
              "    }\n",
              "    40% {\n",
              "      border-color: transparent;\n",
              "      border-right-color: var(--fill-color);\n",
              "      border-top-color: var(--fill-color);\n",
              "    }\n",
              "    60% {\n",
              "      border-color: transparent;\n",
              "      border-right-color: var(--fill-color);\n",
              "    }\n",
              "    80% {\n",
              "      border-color: transparent;\n",
              "      border-right-color: var(--fill-color);\n",
              "      border-bottom-color: var(--fill-color);\n",
              "    }\n",
              "    90% {\n",
              "      border-color: transparent;\n",
              "      border-bottom-color: var(--fill-color);\n",
              "    }\n",
              "  }\n",
              "</style>\n",
              "\n",
              "  <script>\n",
              "    async function quickchart(key) {\n",
              "      const quickchartButtonEl =\n",
              "        document.querySelector('#' + key + ' button');\n",
              "      quickchartButtonEl.disabled = true;  // To prevent multiple clicks.\n",
              "      quickchartButtonEl.classList.add('colab-df-spinner');\n",
              "      try {\n",
              "        const charts = await google.colab.kernel.invokeFunction(\n",
              "            'suggestCharts', [key], {});\n",
              "      } catch (error) {\n",
              "        console.error('Error during call to suggestCharts:', error);\n",
              "      }\n",
              "      quickchartButtonEl.classList.remove('colab-df-spinner');\n",
              "      quickchartButtonEl.classList.add('colab-df-quickchart-complete');\n",
              "    }\n",
              "    (() => {\n",
              "      let quickchartButtonEl =\n",
              "        document.querySelector('#df-1699097a-2493-4721-ab12-ee6336e6d0eb button');\n",
              "      quickchartButtonEl.style.display =\n",
              "        google.colab.kernel.accessAllowed ? 'block' : 'none';\n",
              "    })();\n",
              "  </script>\n",
              "</div>\n",
              "\n",
              "  <div id=\"id_dae3192f-5c36-4bb2-89fb-650303d43f69\">\n",
              "    <style>\n",
              "      .colab-df-generate {\n",
              "        background-color: #E8F0FE;\n",
              "        border: none;\n",
              "        border-radius: 50%;\n",
              "        cursor: pointer;\n",
              "        display: none;\n",
              "        fill: #1967D2;\n",
              "        height: 32px;\n",
              "        padding: 0 0 0 0;\n",
              "        width: 32px;\n",
              "      }\n",
              "\n",
              "      .colab-df-generate:hover {\n",
              "        background-color: #E2EBFA;\n",
              "        box-shadow: 0px 1px 2px rgba(60, 64, 67, 0.3), 0px 1px 3px 1px rgba(60, 64, 67, 0.15);\n",
              "        fill: #174EA6;\n",
              "      }\n",
              "\n",
              "      [theme=dark] .colab-df-generate {\n",
              "        background-color: #3B4455;\n",
              "        fill: #D2E3FC;\n",
              "      }\n",
              "\n",
              "      [theme=dark] .colab-df-generate:hover {\n",
              "        background-color: #434B5C;\n",
              "        box-shadow: 0px 1px 3px 1px rgba(0, 0, 0, 0.15);\n",
              "        filter: drop-shadow(0px 1px 2px rgba(0, 0, 0, 0.3));\n",
              "        fill: #FFFFFF;\n",
              "      }\n",
              "    </style>\n",
              "    <button class=\"colab-df-generate\" onclick=\"generateWithVariable('data')\"\n",
              "            title=\"Generate code using this dataframe.\"\n",
              "            style=\"display:none;\">\n",
              "\n",
              "  <svg xmlns=\"http://www.w3.org/2000/svg\" height=\"24px\"viewBox=\"0 0 24 24\"\n",
              "       width=\"24px\">\n",
              "    <path d=\"M7,19H8.4L18.45,9,17,7.55,7,17.6ZM5,21V16.75L18.45,3.32a2,2,0,0,1,2.83,0l1.4,1.43a1.91,1.91,0,0,1,.58,1.4,1.91,1.91,0,0,1-.58,1.4L9.25,21ZM18.45,9,17,7.55Zm-12,3A5.31,5.31,0,0,0,4.9,8.1,5.31,5.31,0,0,0,1,6.5,5.31,5.31,0,0,0,4.9,4.9,5.31,5.31,0,0,0,6.5,1,5.31,5.31,0,0,0,8.1,4.9,5.31,5.31,0,0,0,12,6.5,5.46,5.46,0,0,0,6.5,12Z\"/>\n",
              "  </svg>\n",
              "    </button>\n",
              "    <script>\n",
              "      (() => {\n",
              "      const buttonEl =\n",
              "        document.querySelector('#id_dae3192f-5c36-4bb2-89fb-650303d43f69 button.colab-df-generate');\n",
              "      buttonEl.style.display =\n",
              "        google.colab.kernel.accessAllowed ? 'block' : 'none';\n",
              "\n",
              "      buttonEl.onclick = () => {\n",
              "        google.colab.notebook.generateWithVariable('data');\n",
              "      }\n",
              "      })();\n",
              "    </script>\n",
              "  </div>\n",
              "\n",
              "    </div>\n",
              "  </div>\n"
            ],
            "application/vnd.google.colaboratory.intrinsic+json": {
              "type": "dataframe",
              "variable_name": "data",
              "summary": "{\n  \"name\": \"data\",\n  \"rows\": 399,\n  \"fields\": [\n    {\n      \"column\": \"S.No\",\n      \"properties\": {\n        \"dtype\": \"number\",\n        \"std\": 116,\n        \"min\": 1,\n        \"max\": 403,\n        \"num_unique_values\": 399,\n        \"samples\": [\n          201,\n          353,\n          34\n        ],\n        \"semantic_type\": \"\",\n        \"description\": \"\"\n      }\n    },\n    {\n      \"column\": \"Resume Title\",\n      \"properties\": {\n        \"dtype\": \"string\",\n        \"num_unique_values\": 390,\n        \"samples\": [\n          \"MD Dermatology with 3 years of Experience following PG. Area of Expertise-Paediatric Dermatology.\\nKeen to work in private hospitals or medical colleges abroad\",\n          \"Doctor, Dermatologist\",\n          \"Skilled Phaco Refractive Surgeon, ophthalmologist\"\n        ],\n        \"semantic_type\": \"\",\n        \"description\": \"\"\n      }\n    },\n    {\n      \"column\": \"Work Exp\",\n      \"properties\": {\n        \"dtype\": \"number\",\n        \"std\": 5.149675701853371,\n        \"min\": 5.0,\n        \"max\": 31.0,\n        \"num_unique_values\": 36,\n        \"samples\": [\n          26.0,\n          27.0,\n          22.0\n        ],\n        \"semantic_type\": \"\",\n        \"description\": \"\"\n      }\n    },\n    {\n      \"column\": \"Annual Salary\",\n      \"properties\": {\n        \"dtype\": \"number\",\n        \"std\": 14.518806825992382,\n        \"min\": 0.0,\n        \"max\": 101.0,\n        \"num_unique_values\": 116,\n        \"samples\": [\n          15.1,\n          15.0,\n          36.0\n        ],\n        \"semantic_type\": \"\",\n        \"description\": \"\"\n      }\n    },\n    {\n      \"column\": \"Current Location\",\n      \"properties\": {\n        \"dtype\": \"category\",\n        \"num_unique_values\": 80,\n        \"samples\": [\n          \"Trivandrum\",\n          \"Kolkata\",\n          \"Guwahati\"\n        ],\n        \"semantic_type\": \"\",\n        \"description\": \"\"\n      }\n    },\n    {\n      \"column\": \"Preferred Location\",\n      \"properties\": {\n        \"dtype\": \"category\",\n        \"num_unique_values\": 105,\n        \"samples\": [\n          \"Bangalore/bengaluru\",\n          \"Chandigarh,haryana,mohali\",\n          \"Bhubaneswar,sambalpur\"\n        ],\n        \"semantic_type\": \"\",\n        \"description\": \"\"\n      }\n    },\n    {\n      \"column\": \"Designation\",\n      \"properties\": {\n        \"dtype\": \"category\",\n        \"num_unique_values\": 195,\n        \"samples\": [\n          \"Senior Director- Clinical Research And Medical Affairs\",\n          \"Pathologist\",\n          \"Cosmetic Surgeon Plastic Surgeon\"\n        ],\n        \"semantic_type\": \"\",\n        \"description\": \"\"\n      }\n    },\n    {\n      \"column\": \"U.G. Course\",\n      \"properties\": {\n        \"dtype\": \"category\",\n        \"num_unique_values\": 1,\n        \"samples\": [\n          \"Mbbs\"\n        ],\n        \"semantic_type\": \"\",\n        \"description\": \"\"\n      }\n    },\n    {\n      \"column\": \"P. G. Course\",\n      \"properties\": {\n        \"dtype\": \"category\",\n        \"num_unique_values\": 71,\n        \"samples\": [\n          \"Managerial Effectiveness With Iim-kolkatta\"\n        ],\n        \"semantic_type\": \"\",\n        \"description\": \"\"\n      }\n    },\n    {\n      \"column\": \"Post P. G. Course\",\n      \"properties\": {\n        \"dtype\": \"category\",\n        \"num_unique_values\": 43,\n        \"samples\": [\n          \"Msc Dermatology\"\n        ],\n        \"semantic_type\": \"\",\n        \"description\": \"\"\n      }\n    },\n    {\n      \"column\": \"Age/Date of Birth\",\n      \"properties\": {\n        \"dtype\": \"number\",\n        \"std\": 5.304145478817986,\n        \"min\": 22.0,\n        \"max\": 51.0,\n        \"num_unique_values\": 25,\n        \"samples\": [\n          34.0\n        ],\n        \"semantic_type\": \"\",\n        \"description\": \"\"\n      }\n    },\n    {\n      \"column\": \"Resume ID\",\n      \"properties\": {\n        \"dtype\": \"string\",\n        \"num_unique_values\": 399,\n        \"samples\": [\n          \"6e28229733b187dd85\"\n        ],\n        \"semantic_type\": \"\",\n        \"description\": \"\"\n      }\n    },\n    {\n      \"column\": \"Last Active Date\",\n      \"properties\": {\n        \"dtype\": \"number\",\n        \"std\": 1,\n        \"min\": 2009,\n        \"max\": 2021,\n        \"num_unique_values\": 10,\n        \"samples\": [\n          2020\n        ],\n        \"semantic_type\": \"\",\n        \"description\": \"\"\n      }\n    }\n  ]\n}"
            }
          },
          "metadata": {},
          "execution_count": 3
        }
      ]
    },
    {
      "cell_type": "code",
      "source": [
        "# we will be playing around salary only\n",
        "data['Annual Salary'].describe()"
      ],
      "metadata": {
        "colab": {
          "base_uri": "https://localhost:8080/"
        },
        "id": "hFb-3TvdPAlx",
        "outputId": "ce391923-1386-43a6-e96a-25eb3ef98c85"
      },
      "execution_count": 4,
      "outputs": [
        {
          "output_type": "execute_result",
          "data": {
            "text/plain": [
              "count    399.000000\n",
              "mean      15.104787\n",
              "std       14.518807\n",
              "min        0.000000\n",
              "25%        6.000000\n",
              "50%       12.000000\n",
              "75%       20.000000\n",
              "max      101.000000\n",
              "Name: Annual Salary, dtype: float64"
            ]
          },
          "metadata": {},
          "execution_count": 4
        }
      ]
    },
    {
      "cell_type": "code",
      "source": [
        "# let see what is original distribution for Annual Salary\n",
        "sns.kdeplot(data['Annual Salary'])"
      ],
      "metadata": {
        "colab": {
          "base_uri": "https://localhost:8080/",
          "height": 466
        },
        "id": "pp0YCi0DP-dC",
        "outputId": "47f2eaab-1347-41fe-f715-10909e5ccf34"
      },
      "execution_count": 5,
      "outputs": [
        {
          "output_type": "execute_result",
          "data": {
            "text/plain": [
              "<Axes: xlabel='Annual Salary', ylabel='Density'>"
            ]
          },
          "metadata": {},
          "execution_count": 5
        },
        {
          "output_type": "display_data",
          "data": {
            "text/plain": [
              "<Figure size 640x480 with 1 Axes>"
            ],
            "image/png": "[encoded data removed]"
          },
          "metadata": {}
        }
      ]
    },
    {
      "cell_type": "code",
      "source": [
        "# clearly it is positively skewed data.\n",
        "# we will apply clt and try to inference mean"
      ],
      "metadata": {
        "id": "Qeig1XneQRdk"
      },
      "execution_count": null,
      "outputs": []
    },
    {
      "cell_type": "code",
      "source": [
        "# take 10 sample of size 25 from data\n",
        "sample_means=[]\n",
        "for i in range(10):\n",
        "  sample=data['Annual Salary'].sample(25)\n",
        "  sample_means.append(sample.mean())"
      ],
      "metadata": {
        "id": "b5eyy3UQPQ3_"
      },
      "execution_count": 6,
      "outputs": []
    },
    {
      "cell_type": "code",
      "source": [
        "sns.distplot(sample_means,bins=5,kde=True)"
      ],
      "metadata": {
        "colab": {
          "base_uri": "https://localhost:8080/",
          "height": 638
        },
        "id": "cvGHP4CSPvGI",
        "outputId": "68928843-3ff1-4822-e3c7-0b65fecfd0f0"
      },
      "execution_count": 7,
      "outputs": [
        {
          "output_type": "stream",
          "name": "stderr",
          "text": [
            "<ipython-input-7-83001f627cde>:1: UserWarning: \n",
            "\n",
            "`distplot` is a deprecated function and will be removed in seaborn v0.14.0.\n",
            "\n",
            "Please adapt your code to use either `displot` (a figure-level function with\n",
            "similar flexibility) or `histplot` (an axes-level function for histograms).\n",
            "\n",
            "For a guide to updating your code to use the new functions, please see\n",
            "https://gist.github.com/mwaskom/de44147ed2974457ad6372750bbe5751\n",
            "\n",
            "  sns.distplot(sample_means,bins=5,kde=True)\n"
          ]
        },
        {
          "output_type": "execute_result",
          "data": {
            "text/plain": [
              "<Axes: ylabel='Density'>"
            ]
          },
          "metadata": {},
          "execution_count": 7
        },
        {
          "output_type": "display_data",
          "data": {
            "text/plain": [
              "<Figure size 640x480 with 1 Axes>"
            ],
            "image/png": "[encoded data removed]"
          },
          "metadata": {}
        }
      ]
    },
    {
      "cell_type": "code",
      "source": [
        "# average salary from samples\n",
        "np.mean(sample_means)"
      ],
      "metadata": {
        "colab": {
          "base_uri": "https://localhost:8080/"
        },
        "id": "3h6s1sOxP1G6",
        "outputId": "0d1e8076-70f7-4feb-ec0b-97d543bd5ea6"
      },
      "execution_count": 8,
      "outputs": [
        {
          "output_type": "execute_result",
          "data": {
            "text/plain": [
              "15.46584"
            ]
          },
          "metadata": {},
          "execution_count": 8
        }
      ]
    },
    {
      "cell_type": "code",
      "source": [
        "# std from samples\n",
        "np.std(sample_means)/np.sqrt(25)"
      ],
      "metadata": {
        "colab": {
          "base_uri": "https://localhost:8080/"
        },
        "id": "-QK_pnHAf6UQ",
        "outputId": "ac431666-2b8c-4860-838e-e650a6fcbab3"
      },
      "execution_count": 9,
      "outputs": [
        {
          "output_type": "execute_result",
          "data": {
            "text/plain": [
              "0.4912237286776769"
            ]
          },
          "metadata": {},
          "execution_count": 9
        }
      ]
    },
    {
      "cell_type": "code",
      "source": [
        "np.mean(data['Annual Salary'])"
      ],
      "metadata": {
        "colab": {
          "base_uri": "https://localhost:8080/"
        },
        "id": "vtPLyYmngJV4",
        "outputId": "b9ce2436-c4c6-485c-d1c8-bac5efa07457"
      },
      "execution_count": 10,
      "outputs": [
        {
          "output_type": "execute_result",
          "data": {
            "text/plain": [
              "15.104786967418544"
            ]
          },
          "metadata": {},
          "execution_count": 10
        }
      ]
    },
    {
      "cell_type": "markdown",
      "source": [
        "###Sample stastics are looking away from population\n",
        " ##### sample size - 25 , samples = 10 ☝\n",
        " * population mean - 15.104\n",
        " * population std -14.500\n",
        " * sample mean -\n",
        " * sample std -\n"
      ],
      "metadata": {
        "id": "suW3uQ1QiF-3"
      }
    },
    {
      "cell_type": "code",
      "source": [
        "# lets try clt with sample size >=30\n",
        "sample_means_with_size_30=[]\n",
        "for i in range(10):\n",
        "  sample=data['Annual Salary'].sample(30)\n",
        "  sample_means_with_size_30.append(sample.mean())\n"
      ],
      "metadata": {
        "id": "i1hA3WQygmHP"
      },
      "execution_count": 11,
      "outputs": []
    },
    {
      "cell_type": "code",
      "source": [
        "sns.distplot(sample_means_with_size_30,bins=5,kde=True)"
      ],
      "metadata": {
        "colab": {
          "base_uri": "https://localhost:8080/",
          "height": 638
        },
        "id": "UcCI_bRpg7Zm",
        "outputId": "40d2b73b-a752-438b-b030-e485453145d5"
      },
      "execution_count": 12,
      "outputs": [
        {
          "output_type": "stream",
          "name": "stderr",
          "text": [
            "<ipython-input-12-56099a29d9e7>:1: UserWarning: \n",
            "\n",
            "`distplot` is a deprecated function and will be removed in seaborn v0.14.0.\n",
            "\n",
            "Please adapt your code to use either `displot` (a figure-level function with\n",
            "similar flexibility) or `histplot` (an axes-level function for histograms).\n",
            "\n",
            "For a guide to updating your code to use the new functions, please see\n",
            "https://gist.github.com/mwaskom/de44147ed2974457ad6372750bbe5751\n",
            "\n",
            "  sns.distplot(sample_means_with_size_30,bins=5,kde=True)\n"
          ]
        },
        {
          "output_type": "execute_result",
          "data": {
            "text/plain": [
              "<Axes: ylabel='Density'>"
            ]
          },
          "metadata": {},
          "execution_count": 12
        },
        {
          "output_type": "display_data",
          "data": {
            "text/plain": [
              "<Figure size 640x480 with 1 Axes>"
            ],
            "image/png": "[encoded data removed]"
          },
          "metadata": {}
        }
      ]
    },
    {
      "cell_type": "code",
      "source": [
        "np.mean(sample_means_with_size_30)\n"
      ],
      "metadata": {
        "colab": {
          "base_uri": "https://localhost:8080/"
        },
        "id": "A3PE-Dh0hEQc",
        "outputId": "d201983e-7829-4fe3-895b-b6ad526f0c3f"
      },
      "execution_count": 13,
      "outputs": [
        {
          "output_type": "execute_result",
          "data": {
            "text/plain": [
              "15.815533333333338"
            ]
          },
          "metadata": {},
          "execution_count": 13
        }
      ]
    },
    {
      "cell_type": "code",
      "source": [
        "np.std(sample_means_with_size_30)/np.sqrt(30)"
      ],
      "metadata": {
        "colab": {
          "base_uri": "https://localhost:8080/"
        },
        "id": "LZpCDZIjhKFv",
        "outputId": "f6afe8d1-1c15-4a8a-de24-ea6b6fc8072c"
      },
      "execution_count": 14,
      "outputs": [
        {
          "output_type": "execute_result",
          "data": {
            "text/plain": [
              "0.47975883231597255"
            ]
          },
          "metadata": {},
          "execution_count": 14
        }
      ]
    },
    {
      "cell_type": "code",
      "source": [
        "np.std(data['Annual Salary'])"
      ],
      "metadata": {
        "colab": {
          "base_uri": "https://localhost:8080/"
        },
        "id": "X7up6VzVgihQ",
        "outputId": "524d8704-7c12-4256-ac07-cb573d1b0b9a"
      },
      "execution_count": 15,
      "outputs": [
        {
          "output_type": "execute_result",
          "data": {
            "text/plain": [
              "14.50060141842298"
            ]
          },
          "metadata": {},
          "execution_count": 15
        }
      ]
    },
    {
      "cell_type": "markdown",
      "source": [
        "###Sample stastics are looking close to population\n",
        " ##### sample size - 25 , samples = 10 ☝\n",
        " * population mean - 15.104\n",
        " * population std -14.500\n",
        " * sample mean - 15.83\n",
        " * sample std - 13.13"
      ],
      "metadata": {
        "id": "S5GmcqrWhiZs"
      }
    },
    {
      "cell_type": "code",
      "source": [
        "# results are looking close to population"
      ],
      "metadata": {
        "id": "oXYahn31hZ--"
      },
      "execution_count": null,
      "outputs": []
    },
    {
      "cell_type": "code",
      "source": [
        "#will try with more samples\n"
      ],
      "metadata": {
        "id": "mtZww5sihOCG"
      },
      "execution_count": null,
      "outputs": []
    },
    {
      "cell_type": "code",
      "source": [],
      "metadata": {
        "id": "KdkT67ZvjSqt"
      },
      "execution_count": null,
      "outputs": []
    }
  ]
}