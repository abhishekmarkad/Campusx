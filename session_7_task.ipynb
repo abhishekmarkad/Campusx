{
  "nbformat": 4,
  "nbformat_minor": 0,
  "metadata": {
    "colab": {
      "provenance": [],
      "include_colab_link": true
    },
    "kernelspec": {
      "name": "python3",
      "display_name": "Python 3"
    },
    "language_info": {
      "name": "python"
    }
  },
  "cells": [
    {
      "cell_type": "markdown",
      "metadata": {
        "id": "view-in-github",
        "colab_type": "text"
      },
      "source": [
        "<a href=\"https://colab.research.google.com/github/abhishekmarkad/Campusx/blob/main/session_7_task.ipynb\" target=\"_parent\"><img src=\"https://colab.research.google.com/assets/colab-badge.svg\" alt=\"Open In Colab\"/></a>"
      ]
    },
    {
      "cell_type": "markdown",
      "source": [
        "##`Q-1:` Rectangle Class\n",
        "1. Write a Rectangle class in Python language, allowing you to build a rectangle with length and width attributes.\n",
        "\n",
        "2. Create a Perimeter() method to calculate the perimeter of the rectangle and a Area() method to calculate the area of ​​the rectangle.\n",
        "\n",
        "3. Create a method display() that display the length, width, perimeter and area of an object created using an instantiation on rectangle class."
      ],
      "metadata": {
        "id": "FyUJ3PRAsPr4"
      }
    },
    {
      "cell_type": "markdown",
      "source": [
        "Eg.\n",
        "After making above classes and methods, on executing below code:-\n",
        "```\n",
        "my_rectangle = Rectangle(3 , 4)\n",
        "my_rectangle.display()\n",
        "```\n",
        "\n",
        "`Output:`\n",
        "```\n",
        "The length of rectangle is:  3\n",
        "The width of rectangle is:  4\n",
        "The perimeter of rectangle is:  14\n",
        "The area of rectangle is:  12\n",
        "```\n"
      ],
      "metadata": {
        "id": "GxUtOqJfssFK"
      }
    },
    {
      "cell_type": "code",
      "source": [
        "# write your code here\n",
        "class Rectangle:\n",
        "  def __init__(self,length,width):\n",
        "    self.length=length\n",
        "    self.width=width\n",
        "\n",
        "  def perimeter(self):\n",
        "    return 2*(self.length+self.width)\n",
        "  def area(self):\n",
        "    return self.length*self.width\n",
        "\n",
        "  def display(self):\n",
        "    print(\"The Length of Rectangle is \",self.length)\n",
        "    print(\"The Width of Rectangle is \",self.width)\n",
        "    print(\"The perimeter of Rectangle is \",self.perimeter())\n",
        "    print(\"The area of Rectangle is \",self.area())\n",
        "\n",
        "r1=Rectangle(3,4)\n",
        "r1.display()"
      ],
      "metadata": {
        "id": "92_QT-Uj6NBg",
        "outputId": "3f3d9ebd-11f1-4015-ff95-47b0cd54ac3d",
        "colab": {
          "base_uri": "https://localhost:8080/"
        }
      },
      "execution_count": 3,
      "outputs": [
        {
          "output_type": "stream",
          "name": "stdout",
          "text": [
            "The Length of Rectangle is  3\n",
            "The Width of Rectangle is  4\n",
            "The perimeter of Rectangle is  14\n",
            "The area of Rectangle is  12\n"
          ]
        }
      ]
    },
    {
      "cell_type": "markdown",
      "source": [
        "##`Q-2: Bank Class`\n",
        "\n",
        "1. Create a Python class called `BankAccount` which represents a bank account, having as attributes: `accountNumber` (numeric type), `name` (name of the account owner as string type), `balance`.\n",
        "2. Create a constructor with parameters: `accountNumber, name, balance`.\n",
        "3. Create a `Deposit()` method which manages the deposit actions.\n",
        "4. Create a `Withdrawal()` method  which manages withdrawals actions.\n",
        "5. Create an `bankFees()` method to apply the bank fees with a percentage of 5% of the balance account.\n",
        "6. Create a `display()` method to display account details.\n",
        "Give the complete code for the  BankAccount class."
      ],
      "metadata": {
        "id": "r_GxrS0Vrdom"
      }
    },
    {
      "cell_type": "markdown",
      "source": [
        "Eg.\n",
        "After making above classes and methods, on executing below code:-\n",
        "```\n",
        "newAccount = BankAccount(2178514584, \"Mandy\" , 2800)\n",
        "\n",
        "newAccount.Withdrawal(700)\n",
        "\n",
        "newAccount.Deposit(1000)\n",
        "\n",
        "newAccount.display()\n",
        "```\n",
        "\n",
        "`Output:`\n",
        "```\n",
        "Account Number :  2178514584\n",
        "Account Name :  Mandy\n",
        "Account Balance :  3100 ₹\n",
        "```"
      ],
      "metadata": {
        "id": "qvVkOUJgvTV_"
      }
    },
    {
      "cell_type": "code",
      "source": [
        "# write your code here\n",
        "class BankAccount:\n",
        "  def __init__(self,acc_no:int,name:str,balance:float) -> None:\n",
        "    self.acc_no=acc_no\n",
        "    self.name=name\n",
        "    self.balance=balance\n",
        "  def Deposit(self,balance:float)->bool:\n",
        "    if(balance<0):\n",
        "      return False\n",
        "    self.balance+=balance\n",
        "    print(self.balance)\n",
        "    return True\n",
        "  def Withdrawal(self,amount:float)->bool:\n",
        "    if(amount>self.balance):\n",
        "      return False\n",
        "    self.balance-=amount\n",
        "    print(self.balance)\n",
        "    return True\n",
        "  def display(self):\n",
        "    print('The Account Number is :',self.acc_no)\n",
        "    print(\"The Account Holder's Name \",self.name)\n",
        "    print(\"THE balance \",self.balance)\n",
        "\n",
        "newAccount=BankAccount(2178514584,\"Mandy\",2800)\n",
        "\n",
        "newAccount.Withdrawal(700)\n",
        "\n",
        "newAccount.Deposit(1000)\n",
        "\n",
        "newAccount.display()"
      ],
      "metadata": {
        "id": "fUQOmQyA6YDR",
        "outputId": "0f02d847-b151-4685-d05f-9913a74c2496",
        "colab": {
          "base_uri": "https://localhost:8080/"
        }
      },
      "execution_count": 9,
      "outputs": [
        {
          "output_type": "stream",
          "name": "stdout",
          "text": [
            "2100\n",
            "3100\n",
            "The Account Number is : 2178514584\n",
            "The Account Holder's Name  Mandy\n",
            "THE balance  3100\n"
          ]
        }
      ]
    },
    {
      "cell_type": "markdown",
      "source": [
        "##`Q-3:Computation class`\n",
        "\n",
        "1. Create a `Computation` class with a default constructor (without parameters) allowing to perform various calculations on integers numbers.\n",
        "2. Create a method called `Factorial()` which allows to calculate the factorial of an integer n. Integer n as parameter for this method\n",
        "\n",
        "3. Create a method called `naturalSum()` allowing to calculate the sum of the first n integers 1 + 2 + 3 + .. + n. Integer n as parameter for this method.\n",
        "\n",
        "4. Create a method called `testPrime()` in  the Calculation class to test the primality of a given integer n, n is Prime or Not? Integer n as parameter for this method.\n",
        "\n",
        "5. Create  a method called `testPrims()` allowing to test if two numbers are prime between them. Two integers are prime to one another if they have only `1` as their common divisor. Eg. 4 and 9 are prime to each other.\n",
        "\n",
        "5. Create a `tableMult()` method which creates and displays the multiplication table of a given integer. Then create an `allTablesMult()` method to display all the integer multiplication tables 1, 2, 3, ..., 9.\n",
        "\n",
        "6. Create a static `listDiv()` method that gets all the divisors of a given integer on new list called  Ldiv. Create another `listDivPrim()` method that gets all the prime divisors of a given integer."
      ],
      "metadata": {
        "id": "QovcQAZTrgGU"
      }
    },
    {
      "cell_type": "code",
      "source": [
        "# write your code here\n",
        "class Computation:\n",
        "  def __init__(self):\n",
        "    pass\n",
        "  def Factorial(self,n:int)->int:\n",
        "    result=1\n",
        "    for i in range(2,n+1):\n",
        "      result*=i\n",
        "    return result\n",
        "  def naturalSum(self,n:int)->int:\n",
        "    return (n*(n+1))/2\n",
        "  def testPrime(self,n)->bool:\n",
        "    if(n==0 or n==1):\n",
        "      return False\n",
        "    is_prime=True\n",
        "    i=2\n",
        "    while(i*i<n):\n",
        "      if((n%i)==0):\n",
        "        is_prime=False\n",
        "        break\n",
        "      i+=1\n",
        "    return is_prime\n",
        "\n",
        "  def testPrims(self,a:int,b:int)->bool:\n",
        "    def hcf(x,y):\n",
        "       while(y):\n",
        "         x, y = y, x % y\n",
        "       return x\n",
        "    if(hcf(a,b)==1):\n",
        "      return True\n",
        "    return False\n",
        "  def tableMult(self,n:int)->list:\n",
        "    result=[]\n",
        "    for i in range(1,11):\n",
        "      result.append(n*i)\n",
        "    return result\n",
        "  def allTablesMult(self)->list:\n",
        "    ans=[]\n",
        "    for i in range(1,10):\n",
        "      ans.append(self.tableMult(i))\n",
        "    return ans\n",
        "  def listDiv(self,n:int)->list:\n",
        "    Ldiv=[]\n",
        "    i=1\n",
        "    while(i*i<n):\n",
        "      if((n%i)==0):\n",
        "        Ldiv.append(i)\n",
        "        Ldiv.append(n//i)\n",
        "      i+=1\n",
        "    return Ldiv\n",
        "  def listDivPrim(self,n:int)->list:\n",
        "    Ldiv=self.listDiv(n)\n",
        "    Ldiv=filter(self.testPrime,Ldiv)\n",
        "    return list(Ldiv)\n",
        "\n",
        "\n"
      ],
      "metadata": {
        "id": "YEkPH70l6Z-o"
      },
      "execution_count": 17,
      "outputs": []
    },
    {
      "cell_type": "code",
      "source": [
        "c=Computation()\n",
        "print('5 factorial is :',c.Factorial(5))\n",
        "print('sum upto 10 is :',c.naturalSum(10))\n",
        "print('is 5 prime  :',c.testPrime(5))\n",
        "print(\"is 9 8 are prime to each other\",c.testPrims(9,8))\n",
        "print(c.allTablesMult())\n",
        "print(c.listDivPrim(50))"
      ],
      "metadata": {
        "id": "k8EQSfKd9O-T",
        "outputId": "37b7bfa2-5577-4ae2-ad9c-7d472b758359",
        "colab": {
          "base_uri": "https://localhost:8080/"
        }
      },
      "execution_count": 18,
      "outputs": [
        {
          "output_type": "stream",
          "name": "stdout",
          "text": [
            "5 factorial is : 120\n",
            "sum upto 10 is : 55.0\n",
            "is 5 prime  : True\n",
            "is 9 8 are prime to each other True\n",
            "[[1, 2, 3, 4, 5, 6, 7, 8, 9, 10], [2, 4, 6, 8, 10, 12, 14, 16, 18, 20], [3, 6, 9, 12, 15, 18, 21, 24, 27, 30], [4, 8, 12, 16, 20, 24, 28, 32, 36, 40], [5, 10, 15, 20, 25, 30, 35, 40, 45, 50], [6, 12, 18, 24, 30, 36, 42, 48, 54, 60], [7, 14, 21, 28, 35, 42, 49, 56, 63, 70], [8, 16, 24, 32, 40, 48, 56, 64, 72, 80], [9, 18, 27, 36, 45, 54, 63, 72, 81, 90]]\n",
            "[2, 25, 5]\n"
          ]
        }
      ]
    },
    {
      "cell_type": "markdown",
      "source": [
        "##`Q-4`: Build flashcard using class in Python.\n",
        "\n",
        "Build a flashcard using class in python. A flashcard is a card having information on both sides, which can be used as an aid in memoization. Flashcards usually have a question on one side and an answer on the other.\n",
        "\n",
        "**Example 1:**\n",
        "\n",
        "Approach:\n",
        "\n",
        "- Create a class named FlashCard.\n",
        "- Initialize dictionary fruits using __init__() method. Here you have to define fruit name as key and it's color as value. E.g., {\"Banana\": \"yellow\", \"Strawberries\": \"pink\"}\n",
        "- Now randomly choose a pair from fruits by using _random_ module and store the key in variable _fruit_ and _value_ in variable color.\n",
        "- Now prompt the user to answer the color of the randomly chosen fruit.\n",
        "- If correct print correct else print wrong.\n",
        "\n",
        "Output:\n",
        "```bash\n",
        "welcome to fruit quiz\n",
        "What is the color of Strawberries\n",
        "pink\n",
        "Correct answer\n",
        "Enter 0, if you want to play again: 0\n",
        "What is the color of watermelon\n",
        "green\n",
        "Correct answer\n",
        "Enter 0, if you want to play again: 1\n",
        "```"
      ],
      "metadata": {
        "id": "0yn23_oEriXa"
      }
    },
    {
      "cell_type": "code",
      "source": [],
      "metadata": {
        "id": "b8VQ-0t49NL5"
      },
      "execution_count": null,
      "outputs": []
    },
    {
      "cell_type": "code",
      "source": [
        "# write your code here"
      ],
      "metadata": {
        "id": "vCrUF6VU6l6w"
      },
      "execution_count": null,
      "outputs": []
    },
    {
      "cell_type": "markdown",
      "source": [
        "## `Q-5:` Problem 5 based on OOP Python.\n",
        "\n",
        "TechWorld, a technology training center, wants to allocate courses for instructors. An instructor is identified by name, technology skills, experience and average feedback. An instructor is allocated a course, if he/she satisfies the below two conditions:\n",
        "- eligibility criteria:\n",
        "    - if experience is more than 3 years, average feedback should be 4.5 or more\n",
        "    - if experience is 3 years or less, average feedback should be 4 or more\n",
        "- he/she should posses the technology skill for the course\n",
        "\n",
        "Identify the class name and attributes to represent instructors. Write a Python program to implement the class chosen with its attributes and methods.\n",
        "\n",
        "**Note:**\n",
        "- Consider all instance variables to be private and methods to be public.\n",
        "- An instructor may have multiple technology skills, so consider instance variable, technology_skill to be a list.\n",
        "- *check_eligibility()*: Return true if eligibility criteria is satisfied by the instructor. Else, return false\n",
        "- *allocate_course(technology)*: Return true if the course which requires the given technology can be allocated to the instructor. Else, return false.\n",
        "\n",
        "Represent a few objects of the class, initialize instance variables using setter methods, invoke\n",
        "appropriate methods and test your program."
      ],
      "metadata": {
        "id": "GN2r0jbRewYr"
      }
    },
    {
      "cell_type": "code",
      "source": [
        "# write your code here"
      ],
      "metadata": {
        "id": "pdMFuVFnlvKL"
      },
      "execution_count": null,
      "outputs": []
    }
  ]
}